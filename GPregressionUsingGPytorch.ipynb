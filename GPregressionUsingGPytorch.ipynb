{
  "nbformat": 4,
  "nbformat_minor": 0,
  "metadata": {
    "colab": {
      "name": "GPregressionUsingGPytorch.ipynb",
      "provenance": [],
      "authorship_tag": "ABX9TyOR4mp1o3Pcdcc1gjB5ee8T",
      "include_colab_link": true
    },
    "kernelspec": {
      "name": "python3",
      "display_name": "Python 3"
    },
    "language_info": {
      "name": "python"
    }
  },
  "cells": [
    {
      "cell_type": "markdown",
      "metadata": {
        "id": "view-in-github",
        "colab_type": "text"
      },
      "source": [
        "<a href=\"https://colab.research.google.com/github/kzhangaz/GaussianRegression/blob/main/GPregressionUsingGPytorch.ipynb\" target=\"_parent\"><img src=\"https://colab.research.google.com/assets/colab-badge.svg\" alt=\"Open In Colab\"/></a>"
      ]
    },
    {
      "cell_type": "code",
      "execution_count": 6,
      "metadata": {
        "id": "NI-vpi1ZVMFo"
      },
      "outputs": [],
      "source": [
        "#@title Install Packages\n",
        "%%capture\n",
        "!pip install --upgrade gpytorch\n",
        "!pip install pykeops[full] > install.log"
      ]
    },
    {
      "cell_type": "code",
      "source": [
        "import torch\n",
        "import gpytorch\n",
        "import math\n",
        "from matplotlib import pyplot as plt\n",
        "\n",
        "# set up training data\n",
        "train_x = torch.linspace(0, 1, 100)\n",
        "train_y = torch.sin(train_x * (2 * math.pi)) + torch.randn(train_x.size()) * math.sqrt(0.04)\n",
        "\n",
        "# build the GP model\n",
        "class ExactGPModel(gpytorch.models.ExactGP):\n",
        "    def __init__(self, train_x, train_y, likelihood):\n",
        "        super(ExactGPModel, self).__init__(train_x, train_y, likelihood)\n",
        "        self.mean_module = gpytorch.means.ConstantMean()\n",
        "        self.covar_module = gpytorch.kernels.ScaleKernel(gpytorch.kernels.RBFKernel())\n",
        "\n",
        "    def forward(self, x):\n",
        "        mean_x = self.mean_module(x)\n",
        "        covar_x = self.covar_module(x)\n",
        "        return gpytorch.distributions.MultivariateNormal(mean_x, covar_x)\n",
        "    \n",
        "# initialize likelihood and model\n",
        "likelihood = gpytorch.likelihoods.GaussianLikelihood()\n",
        "model = ExactGPModel(train_x, train_y, likelihood)    \n"
      ],
      "metadata": {
        "colab": {
          "base_uri": "https://localhost:8080/"
        },
        "id": "FgfKe4IekQog",
        "outputId": "75e12276-a435-40a8-ddbf-37083ed9c286"
      },
      "execution_count": 7,
      "outputs": [
        {
          "output_type": "stream",
          "name": "stdout",
          "text": [
            "[KeOps] Warning : cuda was detected, but driver API could not be initialized. Switching to cpu only.\n"
          ]
        }
      ]
    },
    {
      "cell_type": "code",
      "source": [
        "# training the model\n",
        "model.train()\n",
        "likelihood.train()\n",
        "training_iter = 50\n",
        "\n",
        "# Use the adam optimizer\n",
        "optimizer = torch.optim.Adam(model.parameters(), lr=0.1)  # Includes GaussianLikelihood parameters\n",
        "\n",
        "# \"Loss\" for GPs - the marginal log likelihood\n",
        "mll = gpytorch.mlls.ExactMarginalLogLikelihood(likelihood, model)\n",
        "\n",
        "for i in range(training_iter):\n",
        "    # Zero gradients from previous iteration\n",
        "    optimizer.zero_grad()\n",
        "    # Output from model\n",
        "    output = model(train_x)\n",
        "    # Calc loss and backprop gradients\n",
        "    loss = -mll(output, train_y)\n",
        "    loss.backward()\n",
        "    print('Iter %d/%d - Loss: %.3f   lengthscale: %.3f   noise: %.3f' % (\n",
        "        i + 1, training_iter, loss.item(),\n",
        "        model.covar_module.base_kernel.lengthscale.item(),\n",
        "        model.likelihood.noise.item()\n",
        "    ))\n",
        "    optimizer.step()"
      ],
      "metadata": {
        "colab": {
          "base_uri": "https://localhost:8080/"
        },
        "id": "oUpv8aislRRR",
        "outputId": "cdfeed72-8f77-4938-e929-7c8648758461"
      },
      "execution_count": 8,
      "outputs": [
        {
          "output_type": "stream",
          "name": "stdout",
          "text": [
            "Iter 1/50 - Loss: 0.947   lengthscale: 0.693   noise: 0.693\n",
            "Iter 2/50 - Loss: 0.916   lengthscale: 0.644   noise: 0.644\n",
            "Iter 3/50 - Loss: 0.882   lengthscale: 0.598   noise: 0.598\n",
            "Iter 4/50 - Loss: 0.844   lengthscale: 0.555   noise: 0.554\n",
            "Iter 5/50 - Loss: 0.801   lengthscale: 0.514   noise: 0.513\n",
            "Iter 6/50 - Loss: 0.752   lengthscale: 0.476   noise: 0.474\n",
            "Iter 7/50 - Loss: 0.700   lengthscale: 0.439   noise: 0.437\n",
            "Iter 8/50 - Loss: 0.647   lengthscale: 0.405   noise: 0.402\n",
            "Iter 9/50 - Loss: 0.596   lengthscale: 0.372   noise: 0.369\n",
            "Iter 10/50 - Loss: 0.550   lengthscale: 0.342   noise: 0.339\n",
            "Iter 11/50 - Loss: 0.508   lengthscale: 0.315   noise: 0.310\n",
            "Iter 12/50 - Loss: 0.471   lengthscale: 0.292   noise: 0.284\n",
            "Iter 13/50 - Loss: 0.435   lengthscale: 0.272   noise: 0.259\n",
            "Iter 14/50 - Loss: 0.401   lengthscale: 0.256   noise: 0.236\n",
            "Iter 15/50 - Loss: 0.367   lengthscale: 0.243   noise: 0.215\n",
            "Iter 16/50 - Loss: 0.334   lengthscale: 0.232   noise: 0.196\n",
            "Iter 17/50 - Loss: 0.301   lengthscale: 0.224   noise: 0.178\n",
            "Iter 18/50 - Loss: 0.268   lengthscale: 0.218   noise: 0.162\n",
            "Iter 19/50 - Loss: 0.237   lengthscale: 0.213   noise: 0.147\n",
            "Iter 20/50 - Loss: 0.205   lengthscale: 0.211   noise: 0.134\n",
            "Iter 21/50 - Loss: 0.174   lengthscale: 0.210   noise: 0.122\n",
            "Iter 22/50 - Loss: 0.145   lengthscale: 0.211   noise: 0.111\n",
            "Iter 23/50 - Loss: 0.116   lengthscale: 0.213   noise: 0.100\n",
            "Iter 24/50 - Loss: 0.089   lengthscale: 0.216   noise: 0.091\n",
            "Iter 25/50 - Loss: 0.063   lengthscale: 0.220   noise: 0.083\n",
            "Iter 26/50 - Loss: 0.040   lengthscale: 0.226   noise: 0.076\n",
            "Iter 27/50 - Loss: 0.019   lengthscale: 0.232   noise: 0.069\n",
            "Iter 28/50 - Loss: 0.000   lengthscale: 0.239   noise: 0.063\n",
            "Iter 29/50 - Loss: -0.015   lengthscale: 0.247   noise: 0.058\n",
            "Iter 30/50 - Loss: -0.028   lengthscale: 0.255   noise: 0.053\n",
            "Iter 31/50 - Loss: -0.037   lengthscale: 0.263   noise: 0.049\n",
            "Iter 32/50 - Loss: -0.044   lengthscale: 0.271   noise: 0.046\n",
            "Iter 33/50 - Loss: -0.047   lengthscale: 0.279   noise: 0.043\n",
            "Iter 34/50 - Loss: -0.048   lengthscale: 0.287   noise: 0.040\n",
            "Iter 35/50 - Loss: -0.046   lengthscale: 0.293   noise: 0.037\n",
            "Iter 36/50 - Loss: -0.043   lengthscale: 0.298   noise: 0.036\n",
            "Iter 37/50 - Loss: -0.039   lengthscale: 0.302   noise: 0.034\n",
            "Iter 38/50 - Loss: -0.035   lengthscale: 0.305   noise: 0.033\n",
            "Iter 39/50 - Loss: -0.031   lengthscale: 0.306   noise: 0.032\n",
            "Iter 40/50 - Loss: -0.028   lengthscale: 0.306   noise: 0.031\n",
            "Iter 41/50 - Loss: -0.026   lengthscale: 0.304   noise: 0.030\n",
            "Iter 42/50 - Loss: -0.025   lengthscale: 0.301   noise: 0.030\n",
            "Iter 43/50 - Loss: -0.026   lengthscale: 0.298   noise: 0.030\n",
            "Iter 44/50 - Loss: -0.027   lengthscale: 0.294   noise: 0.030\n",
            "Iter 45/50 - Loss: -0.029   lengthscale: 0.289   noise: 0.030\n",
            "Iter 46/50 - Loss: -0.031   lengthscale: 0.285   noise: 0.031\n",
            "Iter 47/50 - Loss: -0.034   lengthscale: 0.281   noise: 0.031\n",
            "Iter 48/50 - Loss: -0.036   lengthscale: 0.277   noise: 0.032\n",
            "Iter 49/50 - Loss: -0.039   lengthscale: 0.274   noise: 0.033\n",
            "Iter 50/50 - Loss: -0.041   lengthscale: 0.271   noise: 0.034\n"
          ]
        }
      ]
    },
    {
      "cell_type": "code",
      "source": [
        "# make predictions with the model\n",
        "\n",
        "# Get into evaluation (predictive posterior) mode\n",
        "model.eval()\n",
        "likelihood.eval()\n",
        "\n",
        "# Test points are regularly spaced along [0,1]\n",
        "# Make predictions by feeding model through likelihood\n",
        "with torch.no_grad(), gpytorch.settings.fast_pred_var():\n",
        "    test_x = torch.linspace(0, 1, 51)\n",
        "    observed_pred = likelihood(model(test_x))\n",
        "\n",
        "# Plot\n",
        "with torch.no_grad():\n",
        "\n",
        "    # Initialize plot\n",
        "    f, ax = plt.subplots(1, 1, figsize=(4, 3))\n",
        "    # Get upper and lower confidence bounds\n",
        "    lower, upper = observed_pred.confidence_region()\n",
        "    # Plot training data as black stars\n",
        "    ax.plot(train_x.numpy(), train_y.numpy(), 'k*')\n",
        "    # Plot predictive means as blue line\n",
        "    ax.plot(test_x.numpy(), observed_pred.mean.numpy(), 'b')\n",
        "    # Shade between the lower and upper confidence bounds\n",
        "    ax.fill_between(test_x.numpy(), lower.numpy(), upper.numpy(), alpha=0.5)\n",
        "    ax.set_ylim([-3, 3])\n",
        "    ax.legend(['Observed Data', 'Mean', 'Confidence'])"
      ],
      "metadata": {
        "colab": {
          "base_uri": "https://localhost:8080/",
          "height": 215
        },
        "id": "9kMzXdDfwcd5",
        "outputId": "29199769-6923-4f38-cbdf-3ddc10acd8a3"
      },
      "execution_count": 10,
      "outputs": [
        {
          "output_type": "display_data",
          "data": {
            "text/plain": [
              "<Figure size 288x216 with 1 Axes>"
            ],
            "image/png": "[encoded data removed]"
          },
          "metadata": {
            "needs_background": "light"
          }
        }
      ]
    }
  ]
}