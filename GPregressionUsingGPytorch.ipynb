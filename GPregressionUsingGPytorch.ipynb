{
  "nbformat": 4,
  "nbformat_minor": 0,
  "metadata": {
    "colab": {
      "name": "GPregressionUsingGPytorch.ipynb",
      "provenance": [],
      "authorship_tag": "ABX9TyOOkzsRskXCrU55daA7Dimg",
      "include_colab_link": true
    },
    "kernelspec": {
      "name": "python3",
      "display_name": "Python 3"
    },
    "language_info": {
      "name": "python"
    }
  },
  "cells": [
    {
      "cell_type": "markdown",
      "metadata": {
        "id": "view-in-github",
        "colab_type": "text"
      },
      "source": [
        "<a href=\"https://colab.research.google.com/github/kzhangaz/GaussianRegression/blob/main/GPregressionUsingGPytorch.ipynb\" target=\"_parent\"><img src=\"https://colab.research.google.com/assets/colab-badge.svg\" alt=\"Open In Colab\"/></a>"
      ]
    },
    {
      "cell_type": "code",
      "execution_count": 2,
      "metadata": {
        "id": "NI-vpi1ZVMFo"
      },
      "outputs": [],
      "source": [
        "#@title Install Packages\n",
        "%%capture\n",
        "!pip install --upgrade gpytorch\n",
        "!pip install pykeops[full] > install.log"
      ]
    },
    {
      "cell_type": "code",
      "source": [
        "import torch\n",
        "import gpytorch\n",
        "import math\n",
        "\n",
        "# set up training data\n",
        "train_x = torch.linspace(0, 1, 100)\n",
        "train_y = torch.sin(train_x * (2 * math.pi)) + torch.randn(train_x.size()) * math.sqrt(0.04)\n",
        "\n",
        "# build the GP model\n",
        "class ExactGPModel(gpytorch.models.ExactGP):\n",
        "    def __init__(self, train_x, train_y, likelihood):\n",
        "        super(ExactGPModel, self).__init__(train_x, train_y, likelihood)\n",
        "        self.mean_module = gpytorch.means.ConstantMean()\n",
        "        self.covar_module = gpytorch.kernels.ScaleKernel(gpytorch.kernels.RBFKernel())\n",
        "\n",
        "    def forward(self, x):\n",
        "        mean_x = self.mean_module(x)\n",
        "        covar_x = self.covar_module(x)\n",
        "        return gpytorch.distributions.MultivariateNormal(mean_x, covar_x)\n",
        "    \n",
        "# initialize likelihood and model\n",
        "likelihood = gpytorch.likelihoods.GaussianLikelihood()\n",
        "model = ExactGPModel(train_x, train_y, likelihood)    \n",
        "\n",
        "# train the model\n"
      ],
      "metadata": {
        "id": "FgfKe4IekQog"
      },
      "execution_count": 4,
      "outputs": []
    }
  ]
}